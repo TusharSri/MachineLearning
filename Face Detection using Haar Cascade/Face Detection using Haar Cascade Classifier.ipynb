{
 "cells": [
  {
   "cell_type": "markdown",
   "metadata": {},
   "source": [
    "# Face Detection from Image Using Haar Cascade Classifier.\n",
    "\n",
    "[Please visit the article to find complete implementation and understanding of the code.](https://medium.com/@tusharsri/face-detection-using-haar-cascade-classifier-72f207b1cf47)"
   ]
  },
  {
   "cell_type": "code",
   "execution_count": 8,
   "metadata": {},
   "outputs": [],
   "source": [
    "import cv2 \n",
    "import time\n",
    "face_cascade = cv2.CascadeClassifier('haarcascade_frontalface_default.xml') \n",
    "originalImage = cv2.imread('im.JPG')\n",
    "\n",
    "grayImage = cv2.cvtColor(originalImage, cv2.COLOR_BGR2GRAY)\n",
    "    \n",
    "faces = face_cascade.detectMultiScale(grayImage, 1.3, 5) \n",
    "\n",
    "for (x,y,w,h) in faces:\n",
    "    cv2.rectangle(originalImage,(x,y),(x+w,y+h),(255,255,255),2) \n",
    "    roi_gray = grayImage[y:y+h, x:x+w] \n",
    "    roi_color = originalImage[y:y+h, x:x+w] \n",
    "\n",
    "cv2.imshow('Face Detection using Haar Cascade',originalImage) \n",
    "cv2.waitKey(50)\n",
    "\n",
    "time.sleep(5) \n",
    "cv2.destroyAllWindows() \n"
   ]
  },
  {
   "cell_type": "markdown",
   "metadata": {},
   "source": [
    "# Face Detection from Video Using Haar Cascade Classifier."
   ]
  },
  {
   "cell_type": "code",
   "execution_count": 9,
   "metadata": {},
   "outputs": [],
   "source": [
    "import cv2 \n",
    "\n",
    "face_cascade = cv2.CascadeClassifier('haarcascade_frontalface_default.xml') \n",
    "capture = cv2.VideoCapture(\"RapGod.mp4\") \n",
    "\n",
    "while True: \n",
    "    reg, videoFrame = capture.read() \n",
    "    grayImage = cv2.cvtColor(videoFrame, cv2.COLOR_BGR2GRAY) \n",
    "\n",
    "    faces = face_cascade.detectMultiScale(grayImage, 1.3, 5) \n",
    "\n",
    "    for (x,y,w,h) in faces: \n",
    "        cv2.rectangle(videoFrame,(x,y),(x+w,y+h),(255,255,0),2) \n",
    "        roi_gray = grayImage[y:y+h, x:x+w] \n",
    "        roi_color = videoFrame[y:y+h, x:x+w] \n",
    "\n",
    "    cv2.imshow('Face Detection using Haar Cascade',videoFrame) \n",
    "\n",
    "    k = cv2.waitKey(30) & 0xff\n",
    "    if k == 27: \n",
    "        break\n",
    "\n",
    "capture.release() \n",
    "\n",
    "cv2.destroyAllWindows() \n"
   ]
  },
  {
   "cell_type": "markdown",
   "metadata": {},
   "source": [
    "# Face Detection from Webcam Using Haar Cascade Classifier."
   ]
  },
  {
   "cell_type": "code",
   "execution_count": null,
   "metadata": {},
   "outputs": [],
   "source": [
    "import cv2 \n",
    "\n",
    "face_cascade = cv2.CascadeClassifier('haarcascade_frontalface_default.xml') \n",
    "capture = cv2.VideoCapture(0) \n",
    "\n",
    "while True: \n",
    "    reg, webcamFrame = capture.read() \n",
    "    grayImage = cv2.cvtColor(videoFrame, cv2.COLOR_BGR2GRAY) \n",
    "\n",
    "    faces = face_cascade.detectMultiScale(grayImage, 1.3, 5) \n",
    "\n",
    "    for (x,y,w,h) in faces: \n",
    "        cv2.rectangle(webcamFrame,(x,y),(x+w,y+h),(255,255,0),2) \n",
    "        roi_gray = grayImage[y:y+h, x:x+w] \n",
    "        roi_color = webcamFrame[y:y+h, x:x+w] \n",
    "\n",
    "    cv2.imshow('Face Detection using Haar Cascade',webcamFrame) \n",
    "\n",
    "    k = cv2.waitKey(30) & 0xff\n",
    "    if k == 27: \n",
    "        break\n",
    "\n",
    "capture.release() \n",
    "\n",
    "cv2.destroyAllWindows() \n"
   ]
  }
 ],
 "metadata": {
  "kernelspec": {
   "display_name": "Python 3",
   "language": "python",
   "name": "python3"
  },
  "language_info": {
   "codemirror_mode": {
    "name": "ipython",
    "version": 3
   },
   "file_extension": ".py",
   "mimetype": "text/x-python",
   "name": "python",
   "nbconvert_exporter": "python",
   "pygments_lexer": "ipython3",
   "version": "3.6.7"
  }
 },
 "nbformat": 4,
 "nbformat_minor": 2
}

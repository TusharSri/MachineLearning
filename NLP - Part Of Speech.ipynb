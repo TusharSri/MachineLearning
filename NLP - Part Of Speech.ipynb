{
 "cells": [
  {
   "cell_type": "markdown",
   "metadata": {},
   "source": [
    "# Print Tagsets in NLTK \n",
    "\n",
    "[Here i have explained all the aspects of Part of speech and Chunking](https://medium.com/@tusharsri/part-of-speech-word-tagger-c533e8ed1f51)"
   ]
  },
  {
   "cell_type": "code",
   "execution_count": null,
   "metadata": {},
   "outputs": [],
   "source": [
    "import nltk\n",
    "nltk.download('tagsets')\n",
    "\n",
    "print(nltk.help.upenn_tagset())"
   ]
  },
  {
   "cell_type": "markdown",
   "metadata": {},
   "source": [
    "# Printing Part Of Speech tags "
   ]
  },
  {
   "cell_type": "code",
   "execution_count": null,
   "metadata": {},
   "outputs": [],
   "source": [
    "import nltk\n",
    "# nltk.download('averaged_perceptron_tagger')\n",
    "\n",
    "Sentence = nltk.word_tokenize(\"The grass is always green on the other side\")\n",
    "print(nltk.pos_tag(Sentence))"
   ]
  },
  {
   "cell_type": "markdown",
   "metadata": {},
   "source": [
    "# The difference comes when we use Part Of Speech Tagging"
   ]
  },
  {
   "cell_type": "code",
   "execution_count": null,
   "metadata": {},
   "outputs": [],
   "source": [
    "import nltk\n",
    "\n",
    "nltk.stem.WordNetLemmatizer().lemmatize('loving')\n",
    "nltk.stem.WordNetLemmatizer().lemmatize('loving', 'v')"
   ]
  },
  {
   "cell_type": "markdown",
   "metadata": {},
   "source": [
    "# Chunking and Tree creation"
   ]
  },
  {
   "cell_type": "code",
   "execution_count": 7,
   "metadata": {},
   "outputs": [],
   "source": [
    "import nltk\n",
    "\n",
    "sentence = \"The grass is always green on the other side\"\n",
    "regex = ('''NP: {<DT>?<JJ>*<NN>} # NP''')\n",
    "\n",
    "chunkParser = nltk.RegexpParser(regex)\n",
    "taggedWordList = nltk.pos_tag(nltk.word_tokenize(sentence))\n",
    "tree = chunkParser.parse(taggedWordList)\n",
    "\n",
    "tree.draw()  "
   ]
  }
 ],
 "metadata": {
  "kernelspec": {
   "display_name": "Python 3",
   "language": "python",
   "name": "python3"
  },
  "language_info": {
   "codemirror_mode": {
    "name": "ipython",
    "version": 3
   },
   "file_extension": ".py",
   "mimetype": "text/x-python",
   "name": "python",
   "nbconvert_exporter": "python",
   "pygments_lexer": "ipython3",
   "version": "3.6.7"
  }
 },
 "nbformat": 4,
 "nbformat_minor": 2
}
